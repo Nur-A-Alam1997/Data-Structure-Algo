{
  "nbformat": 4,
  "nbformat_minor": 0,
  "metadata": {
    "colab": {
      "name": "Doubly_linked_list.ipynb",
      "provenance": [],
      "collapsed_sections": []
    },
    "kernelspec": {
      "name": "python3",
      "display_name": "Python 3"
    },
    "language_info": {
      "name": "python"
    }
  },
  "cells": [
    {
      "cell_type": "code",
      "metadata": {
        "id": "oRw6Goho9Ehf"
      },
      "source": [
        "\"\"\"\n",
        "// Doubly Linked List\n",
        "\n",
        "// Implement the following on the DoublyLinkedList class\n",
        "\n",
        "// push\n",
        "// This function should accept a value add a node to the end of the DoublyLinkedList\n",
        "// with the given value. It should return the DoublyLinkedList.\n",
        "\n",
        "// pop\n",
        "// This function should remove a node at the end of the DoublyLinkedList.\n",
        "// It should return the node removed.\n",
        "\n",
        "// shift\n",
        "// This function should remove a node at the beginning of the DoublyLinkedList.\n",
        "// It should return the node removed.\n",
        "\n",
        "// unshift\n",
        "// This function should accept a value and add a node to the beginning of\n",
        "// the DoublyLinkedList with the given value. It should return the DoublyLinkedList.\n",
        "\n",
        "// get\n",
        "// This internal/helper function should find a node at a specified index\n",
        "// in a DoublyLinkedList. It should return the found node.\n",
        "\n",
        "// set\n",
        "// This function should accept an index and a value and update the value\n",
        "// of the node in the DoublyLinkedList at the index with the new value.\n",
        "// It should return true if the node is updated successfully,\n",
        "// or false if an invalid index is passed in.\n",
        "\n",
        "// insert\n",
        "// This internal/helper function should insert a node at a specified index\n",
        "// in a DoublyLinkedList. It should return true if the index is valid,\n",
        "// and false if the index is invalid (less than 0 or greater than the length of the list).\n",
        "//\n",
        "// remove\n",
        "// This function should remove a node at a specified index in a DoublyLinkedList.\n",
        "// It should return the removed node, if the index is valid,\n",
        "// or undefined if the index is invalid.\n",
        "\n",
        "// reverse\n",
        "// This function should reverse all of the nodes in a DoublyLinkedList,\n",
        "// and should return the list.\n",
        "\"\"\""
      ],
      "execution_count": null,
      "outputs": []
    },
    {
      "cell_type": "code",
      "metadata": {
        "id": "Ne4kA0GSF3Ud"
      },
      "source": [
        "class Node:\n",
        "    def __init__(self,value):\n",
        "        self.value=value\n",
        "        self.next=None\n",
        "        self.prev=None"
      ],
      "execution_count": null,
      "outputs": []
    },
    {
      "cell_type": "code",
      "metadata": {
        "id": "KRjroHaEGq4o"
      },
      "source": [
        "class DLL:\n",
        "    def __init__(self):\n",
        "        self.head=None\n",
        "        self.tail=None\n",
        "        self.length=0\n",
        "\n",
        "    def push(self,value):\n",
        "        node=Node(value)\n",
        "        if (self.head is None):\n",
        "            self.head=node\n",
        "            self.tail=node\n",
        "        else:\n",
        "            self.tail.next=node\n",
        "            node.prev=self.tail\n",
        "            self.tail=node\n",
        "        self.length+=1\n",
        "\n",
        "    def traverse(self):\n",
        "        curr=self.head\n",
        "        while(curr is not None):\n",
        "            print(curr.value)\n",
        "            curr=curr.next\n",
        "\n",
        "    def pop(self):\n",
        "\n",
        "        tempNode=self.tail\n",
        "\n",
        "        if self.head is None:\n",
        "            return \"Invalid\"\n",
        "        elif self.length == 1:\n",
        "            self.head=None\n",
        "            self.tail=None\n",
        "            self.length-=1\n",
        "        else:\n",
        "            self.tail=tempNode.prev\n",
        "            self.tail.next=None\n",
        "            tempNode.prev=None\n",
        "            self.length-=1\n",
        "\n",
        "    def shift(self):\n",
        "\n",
        "        tempNode=self.head\n",
        "\n",
        "        if self.head is None:\n",
        "            return \"Invalid\"\n",
        "        elif self.length == 1:\n",
        "            self.head=None\n",
        "            self.tail=None\n",
        "            self.length-=1\n",
        "        else:\n",
        "            self.head=tempNode.next\n",
        "            self.head.prev=None\n",
        "            tempNode.next=None\n",
        "            self.length-=1\n",
        "\n",
        "    def unshift(self,value):\n",
        "        node=Node(value)\n",
        "        if self.head==None:\n",
        "            self.head=node\n",
        "            self.tail=node\n",
        "            self.length+=1\n",
        "        else:\n",
        "            oldHead=self.head\n",
        "            oldHead.prev=node\n",
        "            node.next=oldHead\n",
        "            self.head=node\n",
        "            self.length+=1\n",
        "    \n",
        "    def get(self,index):\n",
        "        if index<0 or self.length-1<index:\n",
        "            return \"Invalid\"\n",
        "        else:\n",
        "            count=0\n",
        "            curr=self.head\n",
        "            while (count!=index):\n",
        "                curr=curr.next\n",
        "                count+=1\n",
        "            return curr.value\n",
        "    \n",
        "    def get_node(self,index):\n",
        "        if index<0 or self.length-1<index:\n",
        "            return \"Invalid\"\n",
        "        else:\n",
        "            count=0\n",
        "            curr=self.head\n",
        "            while (count!=index):\n",
        "                curr=curr.next\n",
        "                count+=1\n",
        "            return curr\n",
        "\n",
        "    def set(self,index,value):\n",
        "        foundNode=self.get_node(index)\n",
        "        foundNode.value=value\n",
        "        \n",
        "    def insert(self, index, value):\n",
        "        if index<0 or index>self.length:\n",
        "            return \"Invalid\"\n",
        "        elif index==0 :\n",
        "            self.unshift(value)\n",
        "            self.length+=1\n",
        "        elif index==self.length :\n",
        "            self.push(value)\n",
        "            self.length+=1\n",
        "        else:\n",
        "            currNode=Node(value)\n",
        "            nextNode=self.get_node(index)\n",
        "            prevNode=self.get_node(index-1)\n",
        "            nextNode.prev=currNode\n",
        "            prevNode.next=currNode\n",
        "            currNode.prev=prevNode\n",
        "            currNode.next=nextNode\n",
        "            self.length+=1\n",
        "    def remove(self,index):\n",
        "        if index<0 or index>=self.length:\n",
        "            return \"Invalid\"\n",
        "        elif index==0 :\n",
        "            self.shift()\n",
        "            self.length-=1\n",
        "        elif index==self.length-1 :\n",
        "            self.pop()\n",
        "            self.length-=1\n",
        "        else:\n",
        "            currNode=self.get_node(index)\n",
        "            nextNode=self.get_node(index+1)\n",
        "            prevNode=self.get_node(index-1)\n",
        "            nextNode.prev=prevNode\n",
        "            prevNode.next=nextNode\n",
        "            currNode.prev=None\n",
        "            currNode.next=None\n",
        "            self.length-=1\n"
      ],
      "execution_count": 297,
      "outputs": []
    },
    {
      "cell_type": "code",
      "metadata": {
        "id": "8vr5hzg5K0an"
      },
      "source": [
        "D=DLL()\n",
        "D.push(88)\n",
        "D.push(89)\n",
        "D.push(45)\n",
        "D.push(64)\n",
        "D.push(46)"
      ],
      "execution_count": 314,
      "outputs": []
    },
    {
      "cell_type": "code",
      "metadata": {
        "id": "PygOamwRL03e",
        "colab": {
          "base_uri": "https://localhost:8080/"
        },
        "outputId": "62a25b7f-e928-4cfe-f40d-c08ce81f3b42"
      },
      "source": [
        "D.traverse()"
      ],
      "execution_count": 315,
      "outputs": [
        {
          "output_type": "stream",
          "text": [
            "88\n",
            "89\n",
            "45\n",
            "64\n",
            "46\n"
          ],
          "name": "stdout"
        }
      ]
    },
    {
      "cell_type": "code",
      "metadata": {
        "id": "R-Dwk9_CN1KC"
      },
      "source": [
        "D.pop()"
      ],
      "execution_count": 316,
      "outputs": []
    },
    {
      "cell_type": "code",
      "metadata": {
        "id": "IdBMRBPnPnmu"
      },
      "source": [
        "D.shift()"
      ],
      "execution_count": 317,
      "outputs": []
    },
    {
      "cell_type": "code",
      "metadata": {
        "id": "9WypcS1rs1u5"
      },
      "source": [
        "D.unshift(\"Pato\")"
      ],
      "execution_count": 319,
      "outputs": []
    },
    {
      "cell_type": "code",
      "metadata": {
        "colab": {
          "base_uri": "https://localhost:8080/"
        },
        "id": "m9ih4UztuwPS",
        "outputId": "2ebc17f4-d3fd-4e36-8800-65cca8a62bb6"
      },
      "source": [
        "D.get(4)"
      ],
      "execution_count": 320,
      "outputs": [
        {
          "output_type": "execute_result",
          "data": {
            "text/plain": [
              "64"
            ]
          },
          "metadata": {
            "tags": []
          },
          "execution_count": 320
        }
      ]
    },
    {
      "cell_type": "code",
      "metadata": {
        "colab": {
          "base_uri": "https://localhost:8080/"
        },
        "id": "s10j9jkNvQx9",
        "outputId": "b931aa32-ebf1-4be5-b4dc-8642acd9ffaf"
      },
      "source": [
        "D.length"
      ],
      "execution_count": 321,
      "outputs": [
        {
          "output_type": "execute_result",
          "data": {
            "text/plain": [
              "5"
            ]
          },
          "metadata": {
            "tags": []
          },
          "execution_count": 321
        }
      ]
    },
    {
      "cell_type": "code",
      "metadata": {
        "id": "FeXDcjgyvapp"
      },
      "source": [
        "D.set(3,\"Arpa\")"
      ],
      "execution_count": 322,
      "outputs": []
    },
    {
      "cell_type": "code",
      "metadata": {
        "colab": {
          "base_uri": "https://localhost:8080/"
        },
        "id": "wlGjFRlWxwe6",
        "outputId": "03128f7b-1e4c-41e4-e129-173bf01c4291"
      },
      "source": [
        "D.traverse()"
      ],
      "execution_count": 323,
      "outputs": [
        {
          "output_type": "stream",
          "text": [
            "Pato\n",
            "Pato\n",
            "89\n",
            "Arpa\n",
            "64\n"
          ],
          "name": "stdout"
        }
      ]
    },
    {
      "cell_type": "code",
      "metadata": {
        "id": "iU8avI3tydsA"
      },
      "source": [
        "D.insert(3,\"Pato\")"
      ],
      "execution_count": 324,
      "outputs": []
    },
    {
      "cell_type": "code",
      "metadata": {
        "colab": {
          "base_uri": "https://localhost:8080/"
        },
        "id": "xFMUpQhY22mC",
        "outputId": "c650e628-2bb5-4c3f-e48a-9accb25a34f3"
      },
      "source": [
        "D.remove(2)\n",
        "D.traverse()"
      ],
      "execution_count": 325,
      "outputs": [
        {
          "output_type": "stream",
          "text": [
            "Pato\n",
            "Pato\n",
            "Pato\n",
            "Arpa\n",
            "64\n"
          ],
          "name": "stdout"
        }
      ]
    },
    {
      "cell_type": "code",
      "metadata": {
        "id": "5cHbOn3b6cmg"
      },
      "source": [
        ""
      ],
      "execution_count": 325,
      "outputs": []
    }
  ]
}