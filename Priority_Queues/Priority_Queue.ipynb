{
  "nbformat": 4,
  "nbformat_minor": 0,
  "metadata": {
    "colab": {
      "name": "Priority_Queue.ipynb",
      "provenance": [],
      "collapsed_sections": []
    },
    "kernelspec": {
      "name": "python3",
      "display_name": "Python 3"
    },
    "language_info": {
      "name": "python"
    }
  },
  "cells": [
    {
      "cell_type": "code",
      "metadata": {
        "id": "g0mxItSazv2h"
      },
      "source": [
        "# Priority Queue\n",
        "\n",
        "# Implement Priority Queue with Min Binary Heap\n",
        "# Each Node has a value and a priority.  Use the priority to build the heap.\n",
        "\n",
        "# enqueue\n",
        "# This method accepts a value and priority, makes a new node,\n",
        "# and puts it in the right spot based off of its priority.\n",
        "\n",
        "# dequeue\n",
        "# This method removes root element, returns it, and rearranges heap using priority.\n",
        "\n",
        "# Additionally, the following method is implemented on the class:\n",
        "# changePriority - changes priority of node"
      ],
      "execution_count": null,
      "outputs": []
    },
    {
      "cell_type": "code",
      "metadata": {
        "id": "GDoew1w8sJwb"
      },
      "source": [
        "class Node:\n",
        "    def __init__(self,val,priority):\n",
        "        self.val=val\n",
        "        self.priority=priority"
      ],
      "execution_count": null,
      "outputs": []
    },
    {
      "cell_type": "code",
      "metadata": {
        "id": "RqYMUNvV4Atn"
      },
      "source": [
        "class PQueue:\n",
        "    def __init__(self):\n",
        "        self.value=[]\n",
        "\n",
        "    def enQueue(self,val,priority):\n",
        "        node=Node(val,priority)\n",
        "        self.value.append(node)\n",
        "        self.bubbleUp()\n",
        "\n",
        "    def bubbleUp(self):\n",
        "        idx=len(self.value)-1\n",
        "        element=self.value[idx]\n",
        "        while (idx>0):\n",
        "            parentIdx = (idx-1)//2\n",
        "            parent=self.value[parentIdx]\n",
        "            if element.priority < parent.priority:\n",
        "                break\n",
        "            self.value[parentIdx]=element\n",
        "            self.value[idx]=parent\n",
        "            # print(self.value)\n",
        "            idx=parentIdx\n",
        "\n",
        "\n",
        "    def deQueue(self):\n",
        "        max=self.value[0]\n",
        "        last=self.value.pop()\n",
        "        if len(self.value)>0:\n",
        "            self.value[0]=last\n",
        "            self.sinkDown()\n",
        "        return max\n",
        "\n",
        "    def sinkDown(self):\n",
        "        idx=0\n",
        "        length=len(self.value)\n",
        "        element=self.value[0]\n",
        "        while(True):\n",
        "            leftChildIdx=2*idx+1\n",
        "            rightChildIdx=2*idx+2\n",
        "            leftChild=None\n",
        "            rightChild=None\n",
        "            swap=None\n",
        "            if leftChildIdx<length:\n",
        "                leftChild=self.value[leftChildIdx]\n",
        "                if leftChild.priority>element.priority:\n",
        "                    swap=leftChildIdx\n",
        "            if rightChildIdx<length:\n",
        "                rightChild=self.value[rightChildIdx]\n",
        "                if (swap==None and rightChild.priority>element.priority)\\\n",
        "                or (swap!=None and rightChild.priority>leftChild.priority):\n",
        "                    swap=rightChildIdx\n",
        "\n",
        "            if (swap==None):\n",
        "                break\n",
        "            self.value[idx]=self.value[swap]\n",
        "            self.value[swap]=element\n",
        "            idx=swap\n"
      ],
      "execution_count": null,
      "outputs": []
    },
    {
      "cell_type": "code",
      "metadata": {
        "id": "cPuWKPsv-w9b"
      },
      "source": [
        "heap=PQueue()\n",
        "heap.enQueue(\"alsaf\",5)\n",
        "heap.enQueue(\"lal\",4)\n",
        "heap.enQueue(\"asakhfaaf\",124)\n",
        "heap.enQueue(\"asakhfaaf\",7)\n",
        "heap.enQueue(\"eteraf\",134)\n",
        "heap.enQueue(\"eteraf\",13)\n",
        "heap.enQueue(\"alsaf\",341)\n",
        "heap.enQueue(\"lal\",18)"
      ],
      "execution_count": null,
      "outputs": []
    },
    {
      "cell_type": "code",
      "metadata": {
        "colab": {
          "base_uri": "https://localhost:8080/"
        },
        "id": "_mPPm--hvGGI",
        "outputId": "cac37e15-b46b-41a1-e12a-0419cd1cb0cc"
      },
      "source": [
        "heap.value[0].priority"
      ],
      "execution_count": null,
      "outputs": [
        {
          "output_type": "execute_result",
          "data": {
            "text/plain": [
              "341"
            ]
          },
          "metadata": {
            "tags": []
          },
          "execution_count": 15
        }
      ]
    },
    {
      "cell_type": "code",
      "metadata": {
        "colab": {
          "base_uri": "https://localhost:8080/"
        },
        "id": "BYW-PPsVwiGT",
        "outputId": "bb445e3a-045b-43c5-987d-b928d7853e71"
      },
      "source": [
        "heap.deQueue()\n",
        "heap.value[0].priority"
      ],
      "execution_count": null,
      "outputs": [
        {
          "output_type": "execute_result",
          "data": {
            "text/plain": [
              "4"
            ]
          },
          "metadata": {
            "tags": []
          },
          "execution_count": 22
        }
      ]
    }
  ]
}