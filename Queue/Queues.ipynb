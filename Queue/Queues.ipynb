{
  "nbformat": 4,
  "nbformat_minor": 0,
  "metadata": {
    "colab": {
      "name": "Queues.ipynb",
      "provenance": []
    },
    "kernelspec": {
      "name": "python3",
      "display_name": "Python 3"
    },
    "language_info": {
      "name": "python"
    }
  },
  "cells": [
    {
      "cell_type": "code",
      "metadata": {
        "colab": {
          "base_uri": "https://localhost:8080/",
          "height": 71
        },
        "id": "Lg2lk2LkwwtR",
        "outputId": "d071f30d-ed66-4083-aad6-39957bf39a84"
      },
      "source": [
        "\"\"\"\n",
        "// Queue\n",
        "\n",
        "// Implement the following methods on the Queue class.\n",
        "//\n",
        "// enqueue\n",
        "// This function adds the value to the end of the queue.\n",
        "// This should be an O(1) operation and return the new size of the queue.\n",
        "\n",
        "// dequeue\n",
        "// This function removes the value at the beginning of the queue.\n",
        "// This should be an O(1) operation and return the value removed.\n",
        "\n",
        "\n",
        "\"\"\""
      ],
      "execution_count": 1,
      "outputs": [
        {
          "output_type": "execute_result",
          "data": {
            "application/vnd.google.colaboratory.intrinsic+json": {
              "type": "string"
            },
            "text/plain": [
              "'\\n// Queue\\n\\n// Implement the following methods on the Queue class.\\n//\\n// enqueue\\n// This function adds the value to the end of the queue.\\n// This should be an O(1) operation and return the new size of the queue.\\n\\n// dequeue\\n// This function removes the value at the beginning of the queue.\\n// This should be an O(1) operation and return the value removed.\\n\\n\\n'"
            ]
          },
          "metadata": {
            "tags": []
          },
          "execution_count": 1
        }
      ]
    },
    {
      "cell_type": "code",
      "metadata": {
        "id": "wvIk0xqRvkHc"
      },
      "source": [
        "class Node:\n",
        "    def __init__(self,value):\n",
        "        self.value=value\n",
        "        self.next=None\n",
        "\n",
        "\n",
        "class Queue:\n",
        "    def __init__(self):\n",
        "        self.first=None\n",
        "        self.last=None\n",
        "        self.length=0\n",
        "    \n",
        "    def enque(self,value):\n",
        "        node= Node(value)\n",
        "        if self.first is None:\n",
        "            self.first=node\n",
        "            self.last=node\n",
        "        else:\n",
        "            self.last.next=node\n",
        "            self.last=node\n",
        "        self.length+=1\n",
        "\n",
        "    def traverse(self):\n",
        "        curr=self.first\n",
        "        while (curr is not None):\n",
        "            print(curr.value)\n",
        "            curr=curr.next\n",
        "\n",
        "\n",
        "    def deque(self):\n",
        "        if self.first==self.last:\n",
        "            self.first=None\n",
        "            self.last=None\n",
        "        else:\n",
        "            self.first=self.first.next\n",
        "            \n",
        "        self.length-=1\n"
      ],
      "execution_count": 46,
      "outputs": []
    },
    {
      "cell_type": "code",
      "metadata": {
        "id": "cXd_n7czzGtl"
      },
      "source": [
        "Q=Queue()\n",
        "Q.enque(\"1\")\n",
        "Q.enque(\"2\")\n",
        "Q.enque(\"3\")\n",
        "Q.enque(\"4\")"
      ],
      "execution_count": 47,
      "outputs": []
    },
    {
      "cell_type": "code",
      "metadata": {
        "colab": {
          "base_uri": "https://localhost:8080/"
        },
        "id": "dUAF5_8NzYZd",
        "outputId": "c0027f8c-a05d-4e03-9d17-bac45f4ba93d"
      },
      "source": [
        "Q.traverse()"
      ],
      "execution_count": 48,
      "outputs": [
        {
          "output_type": "stream",
          "text": [
            "1\n",
            "2\n",
            "3\n",
            "4\n"
          ],
          "name": "stdout"
        }
      ]
    },
    {
      "cell_type": "code",
      "metadata": {
        "id": "UqTPmtiP15_e"
      },
      "source": [
        "Q.deque()\n",
        "Q.traverse()"
      ],
      "execution_count": 52,
      "outputs": []
    },
    {
      "cell_type": "code",
      "metadata": {
        "id": "WaysFm2-3a4A"
      },
      "source": [
        ""
      ],
      "execution_count": 42,
      "outputs": []
    }
  ]
}