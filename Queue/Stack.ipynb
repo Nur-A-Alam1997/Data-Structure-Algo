{
  "nbformat": 4,
  "nbformat_minor": 0,
  "metadata": {
    "colab": {
      "name": "Stack.ipynb",
      "provenance": [],
      "collapsed_sections": []
    },
    "kernelspec": {
      "name": "python3",
      "display_name": "Python 3"
    },
    "language_info": {
      "name": "python"
    }
  },
  "cells": [
    {
      "cell_type": "code",
      "metadata": {
        "id": "9Z1U20XVwUik"
      },
      "source": [
        "\"\"\"\n",
        "// Stack\n",
        "\n",
        "// Implement the following methods on the Stack class:\n",
        "\n",
        "// push - takes in a node and puts it at the top of the stack.\n",
        "// Should return the new size of the stack.\n",
        "\n",
        "// pop - removes the node at the top of the stack and returns the value of that node.\n",
        "\"\"\""
      ],
      "execution_count": null,
      "outputs": []
    },
    {
      "cell_type": "code",
      "metadata": {
        "id": "HZq_BgkX8dzJ"
      },
      "source": [
        "class Node:\n",
        "    def __init__(self,value):\n",
        "        self.value=value\n",
        "        self.next=None\n",
        "\n",
        "\n",
        "class Stack:\n",
        "    def __init__(self):\n",
        "        self.first=None\n",
        "        self.last=None\n",
        "        self.size=0\n",
        "\n",
        "    def push(self,value):\n",
        "        node=Node(value)\n",
        "        if self.first is None:\n",
        "            self.first=node\n",
        "            self.last=Node\n",
        "        else:\n",
        "            temp=self.first\n",
        "            self.first=node\n",
        "            self.first.next=temp            \n",
        "        self.size+=1\n",
        "\n",
        "\n",
        "    def traverse(self):\n",
        "        curr=self.first\n",
        "        while (curr is not None):\n",
        "            print(curr.value)\n",
        "            curr=curr.next\n",
        "\n",
        "    def pop(self):\n",
        "        if self.first is None:\n",
        "            return \"Invalid\"\n",
        "            \n",
        "        elif self.first==self.last:\n",
        "            self.first=None\n",
        "            self.last=None\n",
        "            self.size-=1\n",
        "        else:\n",
        "            removed=self.first\n",
        "            self.first=None\n",
        "            self.first=removed.next\n",
        "            self.size-=1"
      ],
      "execution_count": 1,
      "outputs": []
    },
    {
      "cell_type": "code",
      "metadata": {
        "id": "gmKCkAfGDzM1"
      },
      "source": [
        "Sk=Stack()\n",
        "Sk.push(\"A\")\n",
        "Sk.push(\"R\")\n",
        "Sk.push(\"P\")\n",
        "Sk.push(\"A\")"
      ],
      "execution_count": 2,
      "outputs": []
    },
    {
      "cell_type": "code",
      "metadata": {
        "colab": {
          "base_uri": "https://localhost:8080/"
        },
        "id": "Tfbt-MNDD_fn",
        "outputId": "029d3380-8b8a-4e15-ba94-d4ad769962ca"
      },
      "source": [
        "Sk.traverse()"
      ],
      "execution_count": 3,
      "outputs": [
        {
          "output_type": "stream",
          "text": [
            "A\n",
            "P\n",
            "R\n",
            "A\n"
          ],
          "name": "stdout"
        }
      ]
    },
    {
      "cell_type": "code",
      "metadata": {
        "colab": {
          "base_uri": "https://localhost:8080/"
        },
        "id": "XFMKrO2xFVyL",
        "outputId": "549ffc9b-6e17-4f91-db78-3f4bbc6ab5cd"
      },
      "source": [
        "Sk.pop()\n",
        "Sk.traverse()"
      ],
      "execution_count": 4,
      "outputs": [
        {
          "output_type": "stream",
          "text": [
            "P\n",
            "R\n",
            "A\n"
          ],
          "name": "stdout"
        }
      ]
    },
    {
      "cell_type": "code",
      "metadata": {
        "id": "JCOFGMCXS-Ph"
      },
      "source": [
        ""
      ],
      "execution_count": 4,
      "outputs": []
    }
  ]
}