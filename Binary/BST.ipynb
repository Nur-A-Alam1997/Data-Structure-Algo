{
  "nbformat": 4,
  "nbformat_minor": 0,
  "metadata": {
    "colab": {
      "name": "BST.ipynb",
      "provenance": [],
      "collapsed_sections": []
    },
    "kernelspec": {
      "name": "python3",
      "display_name": "Python 3"
    },
    "language_info": {
      "name": "python"
    }
  },
  "cells": [
    {
      "cell_type": "code",
      "metadata": {
        "id": "nVy7SGND2AXI",
        "colab": {
          "base_uri": "https://localhost:8080/",
          "height": 124
        },
        "outputId": "8561a3a6-d0c1-4def-d336-96285e5fe235"
      },
      "source": [
        "\"\"\"\n",
        "// Binary Search Tree - iterative version\n",
        "\n",
        "// Write a function on the BinarySearchTree class\n",
        "\n",
        "// insert\n",
        "// This function should accept a value and insert it into the BST in the correct\n",
        "// position. It should return the binary search tree.\n",
        "\n",
        "// find\n",
        "// This function should find a node in a binary tree. It should return the node\n",
        "// if found, otherwise return `null`.\n",
        "\n",
        "// breadthFirstSearch\n",
        "// This function should search through each node in the binary search tree\n",
        "// using breadth first search and return an array containing each node's value.\n",
        "\n",
        "// depthFirstSearchPreOrder\n",
        "// This function should search through each node in the binary search tree using\n",
        "// pre-order depth first search and return an array containing each node's value.\n",
        "\n",
        "// depthFirstSearchPostOrder\n",
        "// This function should search through each node in the binary search tree using\n",
        "// post-order depth first search and return an array containing each node's value.\n",
        "\n",
        "// depthFirstSearchInOrder\n",
        "// This function should search through each node in the binary search tree using\n",
        "// in-order depth first search and return an array containing each node's value.\n",
        "\n",
        "\n",
        "\"\"\""
      ],
      "execution_count": 2,
      "outputs": [
        {
          "output_type": "execute_result",
          "data": {
            "application/vnd.google.colaboratory.intrinsic+json": {
              "type": "string"
            },
            "text/plain": [
              "\"\\n// Binary Search Tree - iterative version\\n\\n// Write a function on the BinarySearchTree class\\n\\n// insert\\n// This function should accept a value and insert it into the BST in the correct\\n// position. It should return the binary search tree.\\n\\n// find\\n// This function should find a node in a binary tree. It should return the node\\n// if found, otherwise return `null`.\\n\\n// breadthFirstSearch\\n// This function should search through each node in the binary search tree\\n// using breadth first search and return an array containing each node's value.\\n\\n// depthFirstSearchPreOrder\\n// This function should search through each node in the binary search tree using\\n// pre-order depth first search and return an array containing each node's value.\\n\\n// depthFirstSearchPostOrder\\n// This function should search through each node in the binary search tree using\\n// post-order depth first search and return an array containing each node's value.\\n\\n// depthFirstSearchInOrder\\n// This function should search through each node in the binary search tree using\\n// in-order depth first search and return an array containing each node's value.\\n\\n\\n\""
            ]
          },
          "metadata": {
            "tags": []
          },
          "execution_count": 2
        }
      ]
    },
    {
      "cell_type": "code",
      "metadata": {
        "id": "fgnw_2QETvnn"
      },
      "source": [
        "class Node:\n",
        "    def __init__(self, value):\n",
        "        self.value = value\n",
        "        self.right = None\n",
        "        self.left = None"
      ],
      "execution_count": 3,
      "outputs": []
    },
    {
      "cell_type": "code",
      "metadata": {
        "id": "lhw_ru5AUjBK"
      },
      "source": [
        "class BST:\n",
        "    def __init__(self):\n",
        "        self.root=None\n",
        "        self.length=0\n",
        "    def insert(self,value):\n",
        "        node=Node(value)\n",
        "        if self.root == None:\n",
        "            self.root = node\n",
        "            self.length+=1\n",
        "            return node.value\n",
        "        else:\n",
        "            curr = self.root\n",
        "            while (True):\n",
        "                if value ==curr.value:\n",
        "                    return \"invalid\"\n",
        "                if value < curr.value:\n",
        "                    if curr.left ==None:\n",
        "                        curr.left = node\n",
        "                        self.length+=1\n",
        "                        # return node.value\n",
        "                        return \n",
        "                    else:\n",
        "                        curr=curr.left\n",
        "                        # return node.value\n",
        "\n",
        "                elif value > curr.value:\n",
        "                    if curr.right == None:\n",
        "                        curr.right=node\n",
        "                        self.length+=1\n",
        "                        # return node.value\n",
        "                        return\n",
        "                    else:\n",
        "                        curr=curr.right\n",
        "                        # return node.value\n",
        "\n",
        "        \n",
        "    def BFS(self):\n",
        "        node=self.root\n",
        "        queue=[node]\n",
        "        visited=[]\n",
        "        while queue:\n",
        "            node=queue.pop(0)\n",
        "            visited.append(node.value)\n",
        "            if node.left:\n",
        "                queue.append(node.left)\n",
        "            if node.right:\n",
        "                queue.append(node.right)\n",
        "        return visited\n",
        "    def find(self,val):\n",
        "        if self.root== None:\n",
        "            return \"Invalid\"\n",
        "        curr=self.root\n",
        "        find=False\n",
        "        while (curr and not find):\n",
        "            if val < curr.value:\n",
        "                curr= curr.left\n",
        "            elif val > curr.value:\n",
        "                curr= curr.right\n",
        "            else:\n",
        "                return True\n",
        "        return False\n",
        "\n",
        "\n",
        "\n",
        "    def DFPostO(self):\n",
        "        visited=[]\n",
        "        current=self.root\n",
        "        def traverse(current):\n",
        "            visited.append(current.value)\n",
        "            if current.left :\n",
        "                traverse(current.left)\n",
        "            \n",
        "            if current.right :\n",
        "                traverse(current.right)\n",
        "\n",
        "        traverse(current)\n",
        "        return visited\n",
        "\n",
        "\n",
        "    def DFPreO(self):\n",
        "        visited=[]\n",
        "        current=self.root\n",
        "        def traverse(current):\n",
        "            if current.left :\n",
        "                traverse(current.left)\n",
        "            \n",
        "            if current.right :\n",
        "                traverse(current.right)\n",
        "            visited.append(current.value)\n",
        "\n",
        "        traverse(current)\n",
        "        return visited\n",
        "    \n",
        "    def DFInO(self):\n",
        "        visited=[]\n",
        "        current=self.root\n",
        "        def traverse(current):\n",
        "            if current.left :\n",
        "                traverse(current.left)\n",
        "            \n",
        "            visited.append(current.value)\n",
        "            \n",
        "            if current.right :\n",
        "                traverse(current.right)\n",
        "\n",
        "        traverse(current)\n",
        "        return visited\n"
      ],
      "execution_count": 40,
      "outputs": []
    },
    {
      "cell_type": "code",
      "metadata": {
        "id": "2pWFcU-E1yx8"
      },
      "source": [
        "bst=BST()"
      ],
      "execution_count": 41,
      "outputs": []
    },
    {
      "cell_type": "code",
      "metadata": {
        "id": "8m1naKYK155k"
      },
      "source": [
        "bst.insert(23)\n",
        "bst.insert(22)\n",
        "bst.insert(14)\n",
        "bst.insert(13)\n",
        "bst.insert(25)\n",
        "bst.insert(73)\n",
        "bst.insert(29)"
      ],
      "execution_count": 42,
      "outputs": []
    },
    {
      "cell_type": "code",
      "metadata": {
        "id": "_0zBkdvm29lp",
        "colab": {
          "base_uri": "https://localhost:8080/"
        },
        "outputId": "3ab848f4-d8eb-4916-b5ba-5fecbf1b664a"
      },
      "source": [
        "bst.BFS()"
      ],
      "execution_count": 43,
      "outputs": [
        {
          "output_type": "execute_result",
          "data": {
            "text/plain": [
              "[23, 22, 25, 14, 73, 13, 29]"
            ]
          },
          "metadata": {
            "tags": []
          },
          "execution_count": 43
        }
      ]
    },
    {
      "cell_type": "code",
      "metadata": {
        "colab": {
          "base_uri": "https://localhost:8080/"
        },
        "id": "UMkv18dj1jJz",
        "outputId": "086a6ca1-af6a-4231-8dae-804d67d17e23"
      },
      "source": [
        "bst.find(117)"
      ],
      "execution_count": 44,
      "outputs": [
        {
          "output_type": "execute_result",
          "data": {
            "text/plain": [
              "False"
            ]
          },
          "metadata": {
            "tags": []
          },
          "execution_count": 44
        }
      ]
    },
    {
      "cell_type": "code",
      "metadata": {
        "colab": {
          "base_uri": "https://localhost:8080/"
        },
        "id": "uBN_HEgEV-Hj",
        "outputId": "e5022496-71d2-4abe-e98c-4098448e7c96"
      },
      "source": [
        "bst.DFPostO()"
      ],
      "execution_count": 45,
      "outputs": [
        {
          "output_type": "execute_result",
          "data": {
            "text/plain": [
              "[23, 22, 14, 13, 25, 73, 29]"
            ]
          },
          "metadata": {
            "tags": []
          },
          "execution_count": 45
        }
      ]
    },
    {
      "cell_type": "code",
      "metadata": {
        "colab": {
          "base_uri": "https://localhost:8080/"
        },
        "id": "CjBBqNcsWEXX",
        "outputId": "5201dd9b-ed40-4e89-a5c1-d9ff243d5d4c"
      },
      "source": [
        "bst.DFPreO()"
      ],
      "execution_count": 46,
      "outputs": [
        {
          "output_type": "execute_result",
          "data": {
            "text/plain": [
              "[13, 14, 22, 29, 73, 25, 23]"
            ]
          },
          "metadata": {
            "tags": []
          },
          "execution_count": 46
        }
      ]
    },
    {
      "cell_type": "code",
      "metadata": {
        "colab": {
          "base_uri": "https://localhost:8080/"
        },
        "id": "1bN_tSF4mZGF",
        "outputId": "a43bcea5-74ca-4b63-e76c-4171dfe16587"
      },
      "source": [
        "bst.DFInO()"
      ],
      "execution_count": 49,
      "outputs": [
        {
          "output_type": "execute_result",
          "data": {
            "text/plain": [
              "[13, 14, 22, 23, 25, 29, 73]"
            ]
          },
          "metadata": {
            "tags": []
          },
          "execution_count": 49
        }
      ]
    },
    {
      "cell_type": "code",
      "metadata": {
        "id": "8w_fN0BZmimD"
      },
      "source": [
        ""
      ],
      "execution_count": null,
      "outputs": []
    }
  ]
}