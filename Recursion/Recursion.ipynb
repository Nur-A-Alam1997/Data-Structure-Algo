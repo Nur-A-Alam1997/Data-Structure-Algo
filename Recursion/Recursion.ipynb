{
  "nbformat": 4,
  "nbformat_minor": 0,
  "metadata": {
    "colab": {
      "name": "Recurion.ipynb",
      "provenance": [],
      "collapsed_sections": []
    },
    "kernelspec": {
      "name": "python3",
      "display_name": "Python 3"
    },
    "language_info": {
      "name": "python"
    }
  },
  "cells": [
    {
      "cell_type": "code",
      "metadata": {
        "id": "QqgeYA_4eGS9"
      },
      "source": [
        "class Fibonacci:\n",
        "\n",
        "    def __init__(self,n):\n",
        "        p=1\n",
        "        c=1\n",
        "        print(1,p)\n",
        "        print(2,c)\n",
        "        for i in range (2,n):\n",
        "            n=c+p\n",
        "            p=c\n",
        "            c=n\n",
        "            print(i+1,c)\n",
        "    "
      ],
      "execution_count": 39,
      "outputs": []
    },
    {
      "cell_type": "code",
      "metadata": {
        "id": "2y0jdaWafDhq"
      },
      "source": [
        "f=Fibonacci(8)"
      ],
      "execution_count": null,
      "outputs": []
    },
    {
      "cell_type": "code",
      "metadata": {
        "id": "iaHOZJVsfJp-"
      },
      "source": [
        "class Fibonacci:\n",
        "    def __init__(self):\n",
        "        \n",
        "        # self.v=v\n",
        "        pass\n",
        "\n",
        "    def recFibb(self,v):\n",
        "        if v==1 or v==0:\n",
        "            return 1\n",
        "        else:\n",
        "            return recFibb(v-1)+recFibb(v-2) \n"
      ],
      "execution_count": 61,
      "outputs": []
    },
    {
      "cell_type": "code",
      "metadata": {
        "id": "Qu8xHbejXHkh",
        "colab": {
          "base_uri": "https://localhost:8080/",
          "height": 0
        },
        "outputId": "5f87b1a3-c58f-4327-e542-95035b4ca321"
      },
      "source": [
        "f=Fibonacci()\n",
        "f.recFibb(7)"
      ],
      "execution_count": 64,
      "outputs": [
        {
          "output_type": "execute_result",
          "data": {
            "text/plain": [
              "21"
            ]
          },
          "metadata": {
            "tags": []
          },
          "execution_count": 64
        }
      ]
    },
    {
      "cell_type": "code",
      "metadata": {
        "id": "sxDLN5QZXZEn"
      },
      "source": [
        "def recFibb(v):\n",
        "    if v==1 or v==0:\n",
        "        return 1\n",
        "    else:\n",
        "        return recFibb(v-1)+recFibb(v-2) "
      ],
      "execution_count": 43,
      "outputs": []
    },
    {
      "cell_type": "code",
      "metadata": {
        "colab": {
          "base_uri": "https://localhost:8080/",
          "height": 0
        },
        "id": "mJzi_FGuY6a1",
        "outputId": "7cca9717-86f7-4efe-841e-0fe31da31d39"
      },
      "source": [
        "recFibb(7)"
      ],
      "execution_count": 44,
      "outputs": [
        {
          "output_type": "execute_result",
          "data": {
            "text/plain": [
              "21"
            ]
          },
          "metadata": {
            "tags": []
          },
          "execution_count": 44
        }
      ]
    },
    {
      "cell_type": "code",
      "metadata": {
        "id": "6uVgMW5GZXQG"
      },
      "source": [
        ""
      ],
      "execution_count": null,
      "outputs": []
    }
  ]
}