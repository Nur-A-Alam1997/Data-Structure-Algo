{
  "nbformat": 4,
  "nbformat_minor": 0,
  "metadata": {
    "colab": {
      "name": "Singly_linked_list.ipynb",
      "provenance": [],
      "collapsed_sections": []
    },
    "kernelspec": {
      "name": "python3",
      "display_name": "Python 3"
    },
    "language_info": {
      "name": "python"
    }
  },
  "cells": [
    {
      "cell_type": "code",
      "metadata": {
        "id": "R6bbPOu-rRXM"
      },
      "source": [
        "# %load_ext google.colab.data_table and disable it with %unload_ext google.colab.data_table\n"
      ],
      "execution_count": null,
      "outputs": []
    },
    {
      "cell_type": "code",
      "metadata": {
        "id": "3MywTHIkNYJZ"
      },
      "source": [
        "# Singly Linked List\n",
        "\n",
        "# Implement the following on the SinglyLinkedList class:\n",
        "\n",
        "# push\n",
        "# This function should take in a value and add a node to the end of the SinglyLinkedList.\n",
        "# It should return the SinglyLinkedList.\n",
        "\n",
        "# pop\n",
        "# This function should remove a node at the end of the SinglyLinkedList.\n",
        "# It should return the node removed.\n",
        "\n",
        "# shift\n",
        "# This function should remove a node from the beginning of the SinglyLinkedList.\n",
        "# It should return the node removed.\n",
        "\n",
        "# unshift\n",
        "# This function should add a new node to the beginning of the SinglyLinkedList.\n",
        "# It should return the SinglyLinkedList.\n",
        "\n",
        "# get\n",
        "# This function should find a node at a specified index in a SinglyLinkedList.\n",
        "# It should return the found node.\n",
        "\n",
        "# set\n",
        "# This function should accept an index and a value and update the value\n",
        "# of the node in the SinglyLinkedList at the index with the new value.\n",
        "# It should return true if the node is updated successfully,\n",
        "# or false if an invalid index is passed in.\n",
        "\n",
        "# insert\n",
        "# This should insert a node at a specified index in a SinglyLinkedList.\n",
        "# It should return true if the index is valid, and false if the index is\n",
        "# invalid (less than 0 or greater than the length of the list).\n",
        "\n",
        "# remove\n",
        "# This function should remove a node at a specified index in a SinglyLinkedList.\n",
        "# It should return the removed node, if the index is valid,\n",
        "# or undefined if the index is invalid.\n",
        "\n",
        "# reverse\n",
        "# This function should reverse the SinglyLinkedList in place.\n",
        "\n",
        "# rotate\n",
        "# This function should rotate all the nodes in the list by some number passed in.\n",
        "# For instance, if your list looks like 1 -> 2 -> 3 -> 4 -> 5 and you rotate by 2,\n",
        "# the list should be modified to 3 -> 4 -> 5 -> 1 -> 2.\n",
        "# The number passed in to rotate can be any integer (should work with negative indexes).\n",
        "# Time Complexity: O(N), where N is the length of the list.\n",
        "# Space Complexity: O(1)\n",
        "\n",
        "# Additionally, the following methods are implemented on the class:\n",
        "# find - accepts a parameter compareTo which can be a value for comparison or\n",
        "# a comparison function (must return true or false for each node), returns\n",
        "# the found node or its index.\n",
        "\n",
        "# iterate - accepts a callback function as a parameter, iterates through each node\n",
        "# in the list applying the callback function, returns array of values returned from\n",
        "# the callback function\n"
      ],
      "execution_count": null,
      "outputs": []
    },
    {
      "cell_type": "code",
      "metadata": {
        "id": "tnjeJLe2gEgD"
      },
      "source": [
        "class Node:\n",
        "    def __init__(self,val):\n",
        "        self.val=val\n",
        "        self.next=None"
      ],
      "execution_count": 3,
      "outputs": []
    },
    {
      "cell_type": "code",
      "metadata": {
        "id": "PnSEWYswqf0U"
      },
      "source": [
        "\n",
        "class Singly_l_list:\n",
        "    def __init__(self):\n",
        "        self.head=None\n",
        "        self.tail=None\n",
        "        self.length=0\n",
        "    def push(self,val):\n",
        "        node = Node (val)\n",
        "        if self.head is None:\n",
        "            self.head = node\n",
        "            self.tail = self.head\n",
        "        else :\n",
        "            self.tail.next= node\n",
        "            self.tail=node\n",
        "\n",
        "        self.length+=1\n",
        "\n",
        "\n",
        "    def traverse(self):\n",
        "        current = self.head\n",
        "        while current:\n",
        "            print (current.val)\n",
        "            current = current.next\n",
        "\n",
        "    def pop(self):\n",
        "        if self.head is None:\n",
        "            return \"undefined\"\n",
        "\n",
        "        elif self.length == 1:\n",
        "            self.head = None\n",
        "            self.tail = None\n",
        "            return \"undefined\"\n",
        "        else:\n",
        "            current=self.head\n",
        "            newTail=current\n",
        "            while (current.next is not None):\n",
        "                newTail=current\n",
        "                current=current.next\n",
        "            self.tail=newTail\n",
        "            self.tail.next=None\n",
        "            self.length-=1\n",
        "    def shift(self):\n",
        "        if self.head is None:\n",
        "            return \"undefined\"\n",
        "        elif self.length == 0:\n",
        "            return \"undefined\"\n",
        "        else:\n",
        "            currentHead=self.head\n",
        "            self.head=currentHead.next\n",
        "            self.length-=1\n",
        "\n",
        "    def unshift(self,val):\n",
        "        node = Node(val)\n",
        "        if self.head is None:\n",
        "            self.head = node\n",
        "            self.tail = node\n",
        "        else:\n",
        "            node.next=self.head\n",
        "            self.head=node\n",
        "            self.length+=1\n",
        "\n",
        "    def get(self,index):\n",
        "        if index<0 or index >= self.length:\n",
        "            return \"Invalid\"\n",
        "\n",
        "        counter=0\n",
        "        current=self.head\n",
        "        while (counter != index):\n",
        "            current=current.next\n",
        "            counter+=1\n",
        "        return current.val\n",
        "\n",
        "    def get_node(self,index):\n",
        "        if index<0 or index >= self.length:\n",
        "            return \"Invalid\"\n",
        "\n",
        "        counter=0\n",
        "        current=self.head\n",
        "        while (counter != index):\n",
        "            current=current.next\n",
        "            counter+=1\n",
        "        return current\n",
        "\n",
        "    def set(self, index, val):\n",
        "        foundNode= self.get_node(index)\n",
        "        if foundNode:\n",
        "            foundNode.val=val\n",
        "            return True\n",
        "        else:\n",
        "            return False\n",
        "\n",
        "    def insert(self,index,val):\n",
        "        if index<0 or index>self.length:\n",
        "            return \"invlid\"\n",
        "        elif index==0:\n",
        "            self.unshift(val)\n",
        "        elif index==self.length:\n",
        "            self.push(val)\n",
        "        else:\n",
        "            node=Node(val)\n",
        "            prevNode=self.get_node(index-1)\n",
        "            nextNode=prevNode.next\n",
        "            prevNode.next=node\n",
        "            node.next=nextNode\n",
        "            self.length+=1\n",
        "            return True\n",
        "\n",
        "    def remove(self,index):\n",
        "        if index<0 or index>=self.length:\n",
        "            return \"invlid\"\n",
        "        elif index==0:\n",
        "            self.shift()\n",
        "        elif index==self.lenght-1:\n",
        "            self.pop()\n",
        "        else:\n",
        "            prevNode=self.get_node(index-1)\n",
        "            removedNode=prevNode.next\n",
        "            prevNode.next=removedNode.next\n",
        "            self.length-+1\n",
        "            return removedNode\n",
        "\n",
        "    def reverse(self):\n",
        "        currNode=self.head\n",
        "        self.head=self.tail\n",
        "        self.tail=currNode\n",
        "        currNext=None\n",
        "        currPrev=None\n",
        "        while currNode is not None:\n",
        "            currNext=currNode.next\n",
        "            currNode.next=currPrev\n",
        "            currPrev=currNode\n",
        "            currNode=currNext\n"
      ],
      "execution_count": 20,
      "outputs": []
    },
    {
      "cell_type": "code",
      "metadata": {
        "id": "_3vM1bSGwztf"
      },
      "source": [
        "Sl=Singly_l_list()\n",
        "Sl.push(\"H\")\n",
        "Sl.push(\"O\")\n",
        "Sl.push(\"N\")\n",
        "Sl.push(\"G\")\n",
        "Sl.push(\"H\")"
      ],
      "execution_count": 21,
      "outputs": []
    },
    {
      "cell_type": "code",
      "metadata": {
        "id": "qY8VwiyK3mfg"
      },
      "source": [
        "Sl.traverse()"
      ],
      "execution_count": null,
      "outputs": []
    },
    {
      "cell_type": "code",
      "metadata": {
        "id": "ayC_p0R27835"
      },
      "source": [
        "Sl.pop()\n",
        "Sl.traverse()"
      ],
      "execution_count": null,
      "outputs": []
    },
    {
      "cell_type": "code",
      "metadata": {
        "id": "1tm6D8uCIyq8"
      },
      "source": [
        "Sl.shift()\n",
        "Sl.traverse()"
      ],
      "execution_count": 8,
      "outputs": []
    },
    {
      "cell_type": "code",
      "metadata": {
        "id": "cOuWeQoyMJBC"
      },
      "source": [
        "Sl.unshift(\"O\")\n",
        "Sl.traverse()"
      ],
      "execution_count": 9,
      "outputs": []
    },
    {
      "cell_type": "code",
      "metadata": {
        "id": "1b-Gm5mQOxKl",
        "colab": {
          "base_uri": "https://localhost:8080/"
        },
        "outputId": "cb1b5ed0-e731-48d8-a158-21ae432a159c"
      },
      "source": [
        "Sl.length\n",
        "Sl.traverse()\n"
      ],
      "execution_count": 10,
      "outputs": [
        {
          "output_type": "execute_result",
          "data": {
            "text/plain": [
              "4"
            ]
          },
          "metadata": {
            "tags": []
          },
          "execution_count": 10
        }
      ]
    },
    {
      "cell_type": "code",
      "metadata": {
        "id": "rtzL-tcFPLhO",
        "colab": {
          "base_uri": "https://localhost:8080/",
          "height": 35
        },
        "outputId": "2bd05429-9256-42f8-face-ea3ffde34255"
      },
      "source": [
        "Sl.get(3)\n",
        "Sl.traverse()\n"
      ],
      "execution_count": 11,
      "outputs": [
        {
          "output_type": "execute_result",
          "data": {
            "application/vnd.google.colaboratory.intrinsic+json": {
              "type": "string"
            },
            "text/plain": [
              "'G'"
            ]
          },
          "metadata": {
            "tags": []
          },
          "execution_count": 11
        }
      ]
    },
    {
      "cell_type": "code",
      "metadata": {
        "colab": {
          "base_uri": "https://localhost:8080/"
        },
        "id": "XvkoQwivFOEQ",
        "outputId": "553cc2ca-5b93-4923-e8e7-704b246db936"
      },
      "source": [
        "Sl.set(3,\"K\")\n",
        "Sl.traverse()\n"
      ],
      "execution_count": 12,
      "outputs": [
        {
          "output_type": "execute_result",
          "data": {
            "text/plain": [
              "True"
            ]
          },
          "metadata": {
            "tags": []
          },
          "execution_count": 12
        }
      ]
    },
    {
      "cell_type": "code",
      "metadata": {
        "id": "InVoe1vzJrKJ"
      },
      "source": [
        "Sl.insert(4,\"O\")\n",
        "Sl.traverse()\n"
      ],
      "execution_count": 13,
      "outputs": []
    },
    {
      "cell_type": "code",
      "metadata": {
        "id": "23-qquSB7cks"
      },
      "source": [
        "Sl.reverse()\n",
        "Sl.traverse()"
      ],
      "execution_count": null,
      "outputs": []
    }
  ]
}