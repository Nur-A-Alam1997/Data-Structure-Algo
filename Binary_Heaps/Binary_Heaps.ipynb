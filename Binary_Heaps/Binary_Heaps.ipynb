{
  "nbformat": 4,
  "nbformat_minor": 0,
  "metadata": {
    "colab": {
      "name": "Binary-Heaps.ipynb",
      "provenance": [],
      "collapsed_sections": []
    },
    "kernelspec": {
      "name": "python3",
      "display_name": "Python 3"
    },
    "language_info": {
      "name": "python"
    }
  },
  "cells": [
    {
      "cell_type": "code",
      "metadata": {
        "id": "vago7wy_yqut"
      },
      "source": [
        "# BinaryHeap\n",
        "# Implement the following functions on the MaxBinaryHeap/MinBinaryHeap class\n",
        "\n",
        "# insert\n",
        "# This function should insert a node in a binary heap.\n",
        "# Make sure to re-order the heap after insertion if necessary.\n",
        "\n",
        "# extractMax/Min\n",
        "# This function should remove the root node in a binary heap.\n",
        "# Make sure to re-order the heap after removal if necessary.\n",
        "\n",
        "# sinkDown\n",
        "# This function should convert array into a max/min heap.\n",
        "# Should return the values property on the heap.\n",
        "\n",
        "# heapSort\n",
        "# This function should return a descended sorted array\n"
      ],
      "execution_count": null,
      "outputs": []
    },
    {
      "cell_type": "code",
      "metadata": {
        "id": "RqYMUNvV4Atn"
      },
      "source": [
        "class MaxBinaryHeaps:\n",
        "    def __init__(self):\n",
        "        self.value=[]\n",
        "\n",
        "    def insert(self,val):\n",
        "        self.value.append(val)\n",
        "        self.bubbleUp()\n",
        "\n",
        "    def bubbleUp(self):\n",
        "        idx=len(self.value)-1\n",
        "        element=self.value[idx]\n",
        "        while (idx>0):\n",
        "            parentIdx = (idx-1)//2\n",
        "            parent=self.value[parentIdx]\n",
        "            if element < parent:\n",
        "                break\n",
        "            self.value[parentIdx]=element\n",
        "            self.value[idx]=parent\n",
        "            print(self.value)\n",
        "            idx=parentIdx\n",
        "\n",
        "\n",
        "    def extractMax(self):\n",
        "        max=self.value[0]\n",
        "        last=self.value.pop()\n",
        "        if len(self.value)>0:\n",
        "            self.value[0]=last\n",
        "            self.sinkDown()\n",
        "        return max\n",
        "\n",
        "    def sinkDown(self):\n",
        "        idx=0\n",
        "        length=len(self.value)\n",
        "        element=self.value[0]\n",
        "        while(True):\n",
        "            leftChildIdx=2*idx+1\n",
        "            rightChildIdx=2*idx+2\n",
        "            leftChild=None\n",
        "            rightChild=None\n",
        "            swap=None\n",
        "            if leftChildIdx<length:\n",
        "                leftChild=self.value[leftChildIdx]\n",
        "                if leftChild>element:\n",
        "                    swap=leftChildIdx\n",
        "            if rightChildIdx<length:\n",
        "                rightChild=self.value[rightChildIdx]\n",
        "                if (swap==None and rightChild>element)\\\n",
        "                or (swap!=None and rightChild>leftChild):\n",
        "                    swap=rightChildIdx\n",
        "\n",
        "            if (swap==None):\n",
        "                break\n",
        "            self.value[idx]=self.value[swap]\n",
        "            self.value[swap]=element\n",
        "            idx=swap\n",
        "\n",
        "    def heapSort(self):\n",
        "        sortedHeap=[]\n",
        "        while (self.value):\n",
        "            sortedHeap.append(self.extractMax())\n",
        "        return sortedHeap\n",
        "\n"
      ],
      "execution_count": 5,
      "outputs": []
    },
    {
      "cell_type": "code",
      "metadata": {
        "colab": {
          "base_uri": "https://localhost:8080/"
        },
        "id": "cPuWKPsv-w9b",
        "outputId": "47c13460-ca8a-4d04-c35b-c1768779a741"
      },
      "source": [
        "heap=MaxBinaryHeaps()\n",
        "heap.insert(4)\n",
        "heap.insert(5)\n",
        "heap.insert(7)\n",
        "heap.insert(124)\n",
        "heap.insert(134)\n",
        "heap.insert(13)\n",
        "heap.insert(341)\n",
        "heap.insert(18)"
      ],
      "execution_count": 6,
      "outputs": [
        {
          "output_type": "stream",
          "text": [
            "[5, 4]\n",
            "[7, 4, 5]\n",
            "[7, 124, 5, 4]\n",
            "[124, 7, 5, 4]\n",
            "[124, 134, 5, 4, 7]\n",
            "[134, 124, 5, 4, 7]\n",
            "[134, 124, 13, 4, 7, 5]\n",
            "[134, 124, 341, 4, 7, 5, 13]\n",
            "[341, 124, 134, 4, 7, 5, 13]\n",
            "[341, 124, 134, 18, 7, 5, 13, 4]\n"
          ],
          "name": "stdout"
        }
      ]
    },
    {
      "cell_type": "code",
      "metadata": {
        "colab": {
          "base_uri": "https://localhost:8080/"
        },
        "id": "PZaBaqLoAveS",
        "outputId": "92f93bb1-98c8-46ef-977c-e2c688241907"
      },
      "source": [
        "heap.extractMax()\n",
        "heap.value"
      ],
      "execution_count": null,
      "outputs": [
        {
          "output_type": "execute_result",
          "data": {
            "text/plain": [
              "[]"
            ]
          },
          "metadata": {
            "tags": []
          },
          "execution_count": 47
        }
      ]
    },
    {
      "cell_type": "code",
      "metadata": {
        "id": "RVFNQJBy6E6W",
        "colab": {
          "base_uri": "https://localhost:8080/"
        },
        "outputId": "6181b571-fd09-415e-e620-0a3b548973d1"
      },
      "source": [
        "heap.heapSort()"
      ],
      "execution_count": 7,
      "outputs": [
        {
          "output_type": "execute_result",
          "data": {
            "text/plain": [
              "[341, 134, 124, 18, 13, 7, 5, 4]"
            ]
          },
          "metadata": {
            "tags": []
          },
          "execution_count": 7
        }
      ]
    }
  ]
}